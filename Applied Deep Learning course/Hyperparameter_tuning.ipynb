{
  "nbformat": 4,
  "nbformat_minor": 0,
  "metadata": {
    "colab": {
      "provenance": [],
      "gpuType": "T4"
    },
    "kernelspec": {
      "name": "python3",
      "display_name": "Python 3"
    },
    "language_info": {
      "name": "python"
    },
    "accelerator": "GPU"
  },
  "cells": [
    {
      "cell_type": "code",
      "source": [
        "!pip install scikeras\n"
      ],
      "metadata": {
        "colab": {
          "base_uri": "https://localhost:8080/"
        },
        "id": "5HARKXDwNxZn",
        "outputId": "12c8ce6b-6429-4b58-8927-f88e4d49da87"
      },
      "execution_count": 2,
      "outputs": [
        {
          "output_type": "stream",
          "name": "stdout",
          "text": [
            "Collecting scikeras\n",
            "  Downloading scikeras-0.13.0-py3-none-any.whl.metadata (3.1 kB)\n",
            "Requirement already satisfied: keras>=3.2.0 in /usr/local/lib/python3.10/dist-packages (from scikeras) (3.4.1)\n",
            "Collecting scikit-learn>=1.4.2 (from scikeras)\n",
            "  Downloading scikit_learn-1.5.1-cp310-cp310-manylinux_2_17_x86_64.manylinux2014_x86_64.whl.metadata (12 kB)\n",
            "Requirement already satisfied: absl-py in /usr/local/lib/python3.10/dist-packages (from keras>=3.2.0->scikeras) (1.4.0)\n",
            "Requirement already satisfied: numpy in /usr/local/lib/python3.10/dist-packages (from keras>=3.2.0->scikeras) (1.26.4)\n",
            "Requirement already satisfied: rich in /usr/local/lib/python3.10/dist-packages (from keras>=3.2.0->scikeras) (13.7.1)\n",
            "Requirement already satisfied: namex in /usr/local/lib/python3.10/dist-packages (from keras>=3.2.0->scikeras) (0.0.8)\n",
            "Requirement already satisfied: h5py in /usr/local/lib/python3.10/dist-packages (from keras>=3.2.0->scikeras) (3.11.0)\n",
            "Requirement already satisfied: optree in /usr/local/lib/python3.10/dist-packages (from keras>=3.2.0->scikeras) (0.12.1)\n",
            "Requirement already satisfied: ml-dtypes in /usr/local/lib/python3.10/dist-packages (from keras>=3.2.0->scikeras) (0.4.0)\n",
            "Requirement already satisfied: packaging in /usr/local/lib/python3.10/dist-packages (from keras>=3.2.0->scikeras) (24.1)\n",
            "Requirement already satisfied: scipy>=1.6.0 in /usr/local/lib/python3.10/dist-packages (from scikit-learn>=1.4.2->scikeras) (1.13.1)\n",
            "Requirement already satisfied: joblib>=1.2.0 in /usr/local/lib/python3.10/dist-packages (from scikit-learn>=1.4.2->scikeras) (1.4.2)\n",
            "Requirement already satisfied: threadpoolctl>=3.1.0 in /usr/local/lib/python3.10/dist-packages (from scikit-learn>=1.4.2->scikeras) (3.5.0)\n",
            "Requirement already satisfied: typing-extensions>=4.5.0 in /usr/local/lib/python3.10/dist-packages (from optree->keras>=3.2.0->scikeras) (4.12.2)\n",
            "Requirement already satisfied: markdown-it-py>=2.2.0 in /usr/local/lib/python3.10/dist-packages (from rich->keras>=3.2.0->scikeras) (3.0.0)\n",
            "Requirement already satisfied: pygments<3.0.0,>=2.13.0 in /usr/local/lib/python3.10/dist-packages (from rich->keras>=3.2.0->scikeras) (2.16.1)\n",
            "Requirement already satisfied: mdurl~=0.1 in /usr/local/lib/python3.10/dist-packages (from markdown-it-py>=2.2.0->rich->keras>=3.2.0->scikeras) (0.1.2)\n",
            "Downloading scikeras-0.13.0-py3-none-any.whl (26 kB)\n",
            "Downloading scikit_learn-1.5.1-cp310-cp310-manylinux_2_17_x86_64.manylinux2014_x86_64.whl (13.4 MB)\n",
            "\u001b[2K   \u001b[90m━━━━━━━━━━━━━━━━━━━━━━━━━━━━━━━━━━━━━━━━\u001b[0m \u001b[32m13.4/13.4 MB\u001b[0m \u001b[31m48.8 MB/s\u001b[0m eta \u001b[36m0:00:00\u001b[0m\n",
            "\u001b[?25hInstalling collected packages: scikit-learn, scikeras\n",
            "  Attempting uninstall: scikit-learn\n",
            "    Found existing installation: scikit-learn 1.3.2\n",
            "    Uninstalling scikit-learn-1.3.2:\n",
            "      Successfully uninstalled scikit-learn-1.3.2\n",
            "Successfully installed scikeras-0.13.0 scikit-learn-1.5.1\n"
          ]
        }
      ]
    },
    {
      "cell_type": "code",
      "source": [
        "import warnings\n",
        "warnings.filterwarnings('ignore')\n",
        "import numpy as np\n",
        "from scikeras.wrappers import KerasClassifier\n",
        "from sklearn.model_selection import GridSearchCV\n",
        "from tensorflow.keras.models import Sequential\n",
        "from tensorflow.keras.layers import Dense, Dropout\n",
        "from tensorflow.keras.optimizers import Adam, SGD\n",
        "from tensorflow.keras.constraints import MaxNorm\n",
        "\n"
      ],
      "metadata": {
        "id": "Krilq_0_f-RJ"
      },
      "execution_count": 32,
      "outputs": []
    },
    {
      "cell_type": "markdown",
      "source": [
        "## Batch size and epochs tuning"
      ],
      "metadata": {
        "id": "XkJqEyE8m4hQ"
      }
    },
    {
      "cell_type": "code",
      "execution_count": 4,
      "metadata": {
        "colab": {
          "base_uri": "https://localhost:8080/"
        },
        "id": "iHgi2F1KNZ5G",
        "outputId": "503d6a04-f66c-471a-be01-60c81da3865b"
      },
      "outputs": [
        {
          "output_type": "stream",
          "name": "stdout",
          "text": [
            "Best: 0.7122395833333334 using {'batch_size': 10, 'epochs': 100}\n",
            "0.6223958333333334 (0.02262779582940464) with: {'batch_size': 10, 'epochs': 10}\n",
            "0.6731770833333334 (0.025976480915703128) with: {'batch_size': 10, 'epochs': 50}\n",
            "0.7122395833333334 (0.01327869664998121) with: {'batch_size': 10, 'epochs': 100}\n",
            "0.5989583333333334 (0.0681326846455788) with: {'batch_size': 20, 'epochs': 10}\n",
            "0.6588541666666666 (0.0048719497223619025) with: {'batch_size': 20, 'epochs': 50}\n",
            "0.6888020833333334 (0.038051143740110566) with: {'batch_size': 20, 'epochs': 100}\n",
            "0.6119791666666666 (0.05185496810348927) with: {'batch_size': 40, 'epochs': 10}\n",
            "0.640625 (0.005524271728019903) with: {'batch_size': 40, 'epochs': 50}\n",
            "0.6705729166666666 (0.03513212907091677) with: {'batch_size': 40, 'epochs': 100}\n",
            "0.6432291666666666 (0.02240188871625684) with: {'batch_size': 60, 'epochs': 10}\n",
            "0.6354166666666666 (0.0458140939733312) with: {'batch_size': 60, 'epochs': 50}\n",
            "0.6705729166666666 (0.05396974420849664) with: {'batch_size': 60, 'epochs': 100}\n",
            "0.5833333333333334 (0.0638153685148065) with: {'batch_size': 80, 'epochs': 10}\n",
            "0.6302083333333334 (0.03737682316251907) with: {'batch_size': 80, 'epochs': 50}\n",
            "0.671875 (0.036782413780795664) with: {'batch_size': 80, 'epochs': 100}\n",
            "0.6028645833333334 (0.025581878521339193) with: {'batch_size': 100, 'epochs': 10}\n",
            "0.6067708333333334 (0.027125868041666223) with: {'batch_size': 100, 'epochs': 50}\n",
            "0.6236979166666666 (0.0048719497223619025) with: {'batch_size': 100, 'epochs': 100}\n"
          ]
        }
      ],
      "source": [
        "def create_model():\n",
        "    model = Sequential()\n",
        "    model.add(Dense(12, input_dim=8, activation='relu'))\n",
        "    model.add(Dense(8, activation='relu'))\n",
        "    model.add(Dense(1, activation='sigmoid'))\n",
        "\n",
        "    model.compile(loss='binary_crossentropy', optimizer=Adam(), metrics=['accuracy'])\n",
        "    return model\n",
        "\n",
        "np.random.seed(7)\n",
        "\n",
        "data = np.loadtxt(\"/content/pima-indians-diabetes.data.csv\", delimiter=\",\")\n",
        "\n",
        "X = data[:, 0:8]\n",
        "Y = data[:, 8]\n",
        "\n",
        "model = KerasClassifier(build_fn=create_model, verbose=0)\n",
        "\n",
        "batch_size = [10, 20, 40, 60, 80, 100]\n",
        "epochs = [10, 50, 100]\n",
        "\n",
        "param_grid = dict(batch_size=batch_size, epochs=epochs)\n",
        "grid = GridSearchCV(estimator=model, param_grid=param_grid, n_jobs=-1, cv=3)\n",
        "grid_result = grid.fit(X, Y)\n",
        "\n",
        "print(f\"Best: {grid_result.best_score_} using {grid_result.best_params_}\")\n",
        "for mean_score, std_score, params in zip(grid_result.cv_results_['mean_test_score'],\n",
        "                                         grid_result.cv_results_['std_test_score'],\n",
        "                                         grid_result.cv_results_['params']):\n",
        "    print(f\"{mean_score} ({std_score}) with: {params}\")"
      ]
    },
    {
      "cell_type": "markdown",
      "source": [
        "## optimizer tuning"
      ],
      "metadata": {
        "id": "HIlUXysdnKAU"
      }
    },
    {
      "cell_type": "code",
      "source": [
        "def create_model(optimizer= 'adam'):\n",
        "    model = Sequential()  # Corrected typo here\n",
        "    model.add(Dense(12, input_dim=8, activation='relu'))\n",
        "    model.add(Dense(8, activation='relu'))\n",
        "    model.add(Dense(1, activation='sigmoid'))\n",
        "\n",
        "    model.compile(loss='binary_crossentropy', optimizer=optimizer, metrics=['accuracy'])\n",
        "    return model\n",
        "\n",
        "np.random.seed(7)\n",
        "\n",
        "data = np.loadtxt(\"/content/pima-indians-diabetes.data.csv\", delimiter=\",\")\n",
        "\n",
        "X = data[:, 0:8]\n",
        "Y = data[:, 8]\n",
        "\n",
        "model = KerasClassifier(build_fn=create_model, epochs=10, batch_size=100, verbose=0)\n",
        "\n",
        "optimizer=['SGD', 'RMSprop', 'Adam', 'Adagrad', 'Adamax', 'Adadelta', 'Nadam']\n",
        "\n",
        "param_grid = dict(optimizer= optimizer)\n",
        "grid = GridSearchCV(estimator=model, param_grid=param_grid, n_jobs=-1, cv=3)\n",
        "grid_result = grid.fit(X, Y)\n",
        "\n",
        "print(f\"Best: {grid_result.best_score_} using {grid_result.best_params_}\")\n",
        "for mean_score, std_score, params in zip(grid_result.cv_results_['mean_test_score'],\n",
        "                                         grid_result.cv_results_['std_test_score'],\n",
        "                                         grid_result.cv_results_['params']):\n",
        "    print(f\"{mean_score} ({std_score}) with: {params}\")\n"
      ],
      "metadata": {
        "colab": {
          "base_uri": "https://localhost:8080/"
        },
        "id": "WBZFADYZPbR9",
        "outputId": "1ae3f534-2e4d-42c4-88c1-0abcf5bf4e22"
      },
      "execution_count": 5,
      "outputs": [
        {
          "output_type": "stream",
          "name": "stdout",
          "text": [
            "Best: 0.6015625 using {'optimizer': 'Adam'}\n",
            "0.5234375 (0.08682074519880027) with: {'optimizer': 'SGD'}\n",
            "0.5546875 (0.13814361676952963) with: {'optimizer': 'RMSprop'}\n",
            "0.6015625 (0.0894750132427577) with: {'optimizer': 'Adam'}\n",
            "0.58984375 (0.047841596538733946) with: {'optimizer': 'Adagrad'}\n",
            "0.5364583333333334 (0.07656870014577685) with: {'optimizer': 'Adamax'}\n",
            "0.5169270833333334 (0.1040526720000367) with: {'optimizer': 'Adadelta'}\n",
            "0.55859375 (0.07223922659729269) with: {'optimizer': 'Nadam'}\n"
          ]
        }
      ]
    },
    {
      "cell_type": "markdown",
      "source": [
        "## Activation function tuning"
      ],
      "metadata": {
        "id": "5NVnoXGinPIE"
      }
    },
    {
      "cell_type": "code",
      "source": [
        "def create_model(activation='relu'):\n",
        "    model = Sequential()\n",
        "    model.add(Dense(12, input_dim=8, kernel_initializer='uniform', activation=activation))\n",
        "    model.add(Dense(1, kernel_initializer='uniform', activation='sigmoid'))\n",
        "\n",
        "    model.compile(loss='binary_crossentropy', optimizer='adam', metrics=['accuracy'])\n",
        "    return model\n",
        "\n",
        "np.random.seed(7)\n",
        "\n",
        "data = np.loadtxt(\"/content/pima-indians-diabetes.data.csv\", delimiter=\",\")\n",
        "\n",
        "X = data[:, 0:8]\n",
        "Y = data[:, 8]\n",
        "\n",
        "model = KerasClassifier(build_fn=create_model, epochs=10, batch_size=100, verbose=0)\n",
        "\n",
        "activation = ['relu', 'softmax', 'softplus', 'tanh', 'sigmoid', 'hard_sigmoid', 'linear']\n",
        "\n",
        "param_grid = dict(model__activation=activation)\n",
        "grid = GridSearchCV(estimator=model, param_grid=param_grid, n_jobs=-1, cv=3)\n",
        "grid_result = grid.fit(X, Y)\n",
        "\n",
        "print(f\"Best: {grid_result.best_score_} using {grid_result.best_params_}\")\n",
        "for mean_score, std_score, params in zip(grid_result.cv_results_['mean_test_score'],\n",
        "                                         grid_result.cv_results_['std_test_score'],\n",
        "                                         grid_result.cv_results_['params']):\n",
        "    print(f\"{mean_score:.4f} ({std_score:.4f}) with: {params}\")\n"
      ],
      "metadata": {
        "colab": {
          "base_uri": "https://localhost:8080/"
        },
        "id": "PJxOwAeZR3VV",
        "outputId": "3be887c1-0756-4a27-800c-81cf1cd866af"
      },
      "execution_count": 8,
      "outputs": [
        {
          "output_type": "stream",
          "name": "stdout",
          "text": [
            "Best: 0.6575520833333334 using {'model__activation': 'softplus'}\n",
            "0.6562 (0.0084) with: {'model__activation': 'relu'}\n",
            "0.6510 (0.0018) with: {'model__activation': 'softmax'}\n",
            "0.6576 (0.0103) with: {'model__activation': 'softplus'}\n",
            "0.6510 (0.0018) with: {'model__activation': 'tanh'}\n",
            "0.6510 (0.0018) with: {'model__activation': 'sigmoid'}\n",
            "0.6510 (0.0018) with: {'model__activation': 'hard_sigmoid'}\n",
            "0.6549 (0.0080) with: {'model__activation': 'linear'}\n"
          ]
        }
      ]
    },
    {
      "cell_type": "markdown",
      "source": [
        "## Dropout and weight_constraint tuning"
      ],
      "metadata": {
        "id": "fJHNRJXwnUe7"
      }
    },
    {
      "cell_type": "code",
      "source": [
        "def create_model(dropout=0.3, weight_constraint=0):\n",
        "    model = Sequential()\n",
        "    model.add(Dense(12, input_dim=8, kernel_initializer='uniform', activation='linear', kernel_constraint=MaxNorm(weight_constraint)))\n",
        "    model.add(Dropout(dropout))\n",
        "    model.add(Dense(1, kernel_initializer='uniform', activation='sigmoid'))\n",
        "\n",
        "    model.compile(loss='binary_crossentropy', optimizer='adam', metrics=['accuracy'])\n",
        "    return model\n",
        "\n",
        "np.random.seed(7)\n",
        "\n",
        "data = np.loadtxt(\"/content/pima-indians-diabetes.data.csv\", delimiter=\",\")\n",
        "\n",
        "X = data[:, 0:8]\n",
        "Y = data[:, 8]\n",
        "\n",
        "# Define the model with default parameters\n",
        "model = KerasClassifier(build_fn=create_model, epochs=10, batch_size=100, verbose=0)\n",
        "\n",
        "weight_constraint = [1, 2, 3, 4, 5]\n",
        "dropout = [0.0, 0.1, 0.2, 0.3, 0.4, 0.5, 0.6]\n",
        "\n",
        "param_grid = {\n",
        "    'model__dropout': dropout,\n",
        "    'model__weight_constraint': weight_constraint\n",
        "}\n",
        "\n",
        "grid = GridSearchCV(estimator=model, param_grid=param_grid, n_jobs=-1, cv=3)\n",
        "grid_result = grid.fit(X, Y)\n",
        "\n",
        "print(f\"Best: {grid_result.best_score_} using {grid_result.best_params_}\")\n",
        "for mean_score, std_score, params in zip(grid_result.cv_results_['mean_test_score'],\n",
        "                                         grid_result.cv_results_['std_test_score'],\n",
        "                                         grid_result.cv_results_['params']):\n",
        "    print(f\"{mean_score:.4f} ({std_score:.4f}) with: {params}\")"
      ],
      "metadata": {
        "colab": {
          "base_uri": "https://localhost:8080/"
        },
        "id": "26Z3lrDNfvkU",
        "outputId": "d7195e96-d2d6-4bd0-8e50-37fcbdc4a02a"
      },
      "execution_count": 24,
      "outputs": [
        {
          "output_type": "stream",
          "name": "stdout",
          "text": [
            "Best: 0.66796875 using {'model__dropout': 0.1, 'model__weight_constraint': 3}\n",
            "0.6589 (0.0080) with: {'model__dropout': 0.0, 'model__weight_constraint': 1}\n",
            "0.6536 (0.0112) with: {'model__dropout': 0.0, 'model__weight_constraint': 2}\n",
            "0.6445 (0.0055) with: {'model__dropout': 0.0, 'model__weight_constraint': 3}\n",
            "0.6432 (0.0049) with: {'model__dropout': 0.0, 'model__weight_constraint': 4}\n",
            "0.6536 (0.0133) with: {'model__dropout': 0.0, 'model__weight_constraint': 5}\n",
            "0.6628 (0.0066) with: {'model__dropout': 0.1, 'model__weight_constraint': 1}\n",
            "0.6562 (0.0055) with: {'model__dropout': 0.1, 'model__weight_constraint': 2}\n",
            "0.6680 (0.0146) with: {'model__dropout': 0.1, 'model__weight_constraint': 3}\n",
            "0.6576 (0.0066) with: {'model__dropout': 0.1, 'model__weight_constraint': 4}\n",
            "0.6589 (0.0080) with: {'model__dropout': 0.1, 'model__weight_constraint': 5}\n",
            "0.6497 (0.0129) with: {'model__dropout': 0.2, 'model__weight_constraint': 1}\n",
            "0.6484 (0.0055) with: {'model__dropout': 0.2, 'model__weight_constraint': 2}\n",
            "0.6615 (0.0176) with: {'model__dropout': 0.2, 'model__weight_constraint': 3}\n",
            "0.6549 (0.0092) with: {'model__dropout': 0.2, 'model__weight_constraint': 4}\n",
            "0.6471 (0.0103) with: {'model__dropout': 0.2, 'model__weight_constraint': 5}\n",
            "0.6576 (0.0092) with: {'model__dropout': 0.3, 'model__weight_constraint': 1}\n",
            "0.6589 (0.0121) with: {'model__dropout': 0.3, 'model__weight_constraint': 2}\n",
            "0.6445 (0.0055) with: {'model__dropout': 0.3, 'model__weight_constraint': 3}\n",
            "0.6576 (0.0112) with: {'model__dropout': 0.3, 'model__weight_constraint': 4}\n",
            "0.6602 (0.0055) with: {'model__dropout': 0.3, 'model__weight_constraint': 5}\n",
            "0.6523 (0.0032) with: {'model__dropout': 0.4, 'model__weight_constraint': 1}\n",
            "0.6510 (0.0097) with: {'model__dropout': 0.4, 'model__weight_constraint': 2}\n",
            "0.6471 (0.0080) with: {'model__dropout': 0.4, 'model__weight_constraint': 3}\n",
            "0.6523 (0.0032) with: {'model__dropout': 0.4, 'model__weight_constraint': 4}\n",
            "0.6445 (0.0055) with: {'model__dropout': 0.4, 'model__weight_constraint': 5}\n",
            "0.6419 (0.0049) with: {'model__dropout': 0.5, 'model__weight_constraint': 1}\n",
            "0.6510 (0.0112) with: {'model__dropout': 0.5, 'model__weight_constraint': 2}\n",
            "0.6641 (0.0096) with: {'model__dropout': 0.5, 'model__weight_constraint': 3}\n",
            "0.6484 (0.0032) with: {'model__dropout': 0.5, 'model__weight_constraint': 4}\n",
            "0.6432 (0.0018) with: {'model__dropout': 0.5, 'model__weight_constraint': 5}\n",
            "0.6497 (0.0018) with: {'model__dropout': 0.6, 'model__weight_constraint': 1}\n",
            "0.6576 (0.0080) with: {'model__dropout': 0.6, 'model__weight_constraint': 2}\n",
            "0.6523 (0.0169) with: {'model__dropout': 0.6, 'model__weight_constraint': 3}\n",
            "0.6510 (0.0037) with: {'model__dropout': 0.6, 'model__weight_constraint': 4}\n",
            "0.6497 (0.0080) with: {'model__dropout': 0.6, 'model__weight_constraint': 5}\n"
          ]
        }
      ]
    },
    {
      "cell_type": "markdown",
      "source": [
        "## Neurons tuning"
      ],
      "metadata": {
        "id": "esc3isR6ofip"
      }
    },
    {
      "cell_type": "code",
      "source": [
        "def create_model(neurons=1):\n",
        "    model = Sequential()\n",
        "    model.add(Dense(neurons, input_dim=8, kernel_initializer='uniform', activation='linear', kernel_constraint=MaxNorm(3)))\n",
        "    model.add(Dropout(0.1))\n",
        "    model.add(Dense(1, kernel_initializer='uniform', activation='sigmoid'))\n",
        "\n",
        "    model.compile(loss='binary_crossentropy', optimizer='adam', metrics=['accuracy'])\n",
        "    return model\n",
        "\n",
        "np.random.seed(7)\n",
        "\n",
        "data = np.loadtxt(\"/content/pima-indians-diabetes.data.csv\", delimiter=\",\")\n",
        "\n",
        "X = data[:, 0:8]\n",
        "Y = data[:, 8]\n",
        "\n",
        "model = KerasClassifier(build_fn=create_model, epochs=10, batch_size=100, verbose=0)\n",
        "\n",
        "neurons = [1, 5, 10, 15, 20, 25, 30]\n",
        "\n",
        "param_grid = {\n",
        "    'model__neurons': neurons,\n",
        "}\n",
        "\n",
        "grid = GridSearchCV(estimator=model, param_grid=param_grid, n_jobs=-1, cv=3)\n",
        "grid_result = grid.fit(X, Y)\n",
        "\n",
        "print(f\"Best: {grid_result.best_score_} using {grid_result.best_params_}\")\n",
        "for mean_score, std_score, params in zip(grid_result.cv_results_['mean_test_score'],\n",
        "                                         grid_result.cv_results_['std_test_score'],\n",
        "                                         grid_result.cv_results_['params']):\n",
        "    print(f\"{mean_score:.4f} ({std_score:.4f}) with: {params}\")"
      ],
      "metadata": {
        "colab": {
          "base_uri": "https://localhost:8080/"
        },
        "id": "1azma74sf844",
        "outputId": "4aab65ba-55f7-41e9-aaee-152d9653add7"
      },
      "execution_count": 27,
      "outputs": [
        {
          "output_type": "stream",
          "name": "stdout",
          "text": [
            "Best: 0.6588541666666666 using {'model__neurons': 30}\n",
            "0.6510 (0.0018) with: {'model__neurons': 1}\n",
            "0.6576 (0.0080) with: {'model__neurons': 5}\n",
            "0.6471 (0.0080) with: {'model__neurons': 10}\n",
            "0.6536 (0.0049) with: {'model__neurons': 15}\n",
            "0.6523 (0.0115) with: {'model__neurons': 20}\n",
            "0.6562 (0.0146) with: {'model__neurons': 25}\n",
            "0.6589 (0.0092) with: {'model__neurons': 30}\n"
          ]
        }
      ]
    },
    {
      "cell_type": "markdown",
      "source": [
        "## Learning_rate and momentum tuning"
      ],
      "metadata": {
        "id": "azaBsEA-pysO"
      }
    },
    {
      "cell_type": "code",
      "source": [
        "def create_model(lr=0.1, momentum=0):\n",
        "    model = Sequential()\n",
        "    model.add(Dense(30, input_dim=8, kernel_initializer='uniform', activation='linear', kernel_constraint=MaxNorm(3)))\n",
        "    model.add(Dropout(0.1))\n",
        "    model.add(Dense(1, kernel_initializer='uniform', activation='sigmoid'))\n",
        "\n",
        "    optimizer = SGD(learning_rate=lr, momentum=momentum)\n",
        "    model.compile(loss='binary_crossentropy', optimizer=optimizer, metrics=['accuracy'])\n",
        "    return model\n",
        "\n",
        "np.random.seed(7)\n",
        "\n",
        "data = np.loadtxt(\"/content/pima-indians-diabetes.data.csv\", delimiter=\",\")\n",
        "\n",
        "X = data[:, 0:8]\n",
        "Y = data[:, 8]\n",
        "\n",
        "model = KerasClassifier(build_fn=create_model, epochs=10, batch_size=100, verbose=0)\n",
        "\n",
        "learn_rate= [0.001, 0.01, 0.1, 0.2, 0.3]\n",
        "momentum = [0.0, 0.2, 0.4, 0.6, 0.8, 0.9]\n",
        "\n",
        "\n",
        "param_grid = {\n",
        "    'model__lr': learn_rate,\n",
        "    'model__momentum': momentum\n",
        "}\n",
        "\n",
        "grid = GridSearchCV(estimator=model, param_grid=param_grid, n_jobs=-1, cv=3)\n",
        "grid_result = grid.fit(X, Y)\n",
        "\n",
        "print(f\"Best: {grid_result.best_score_} using {grid_result.best_params_}\")\n",
        "for mean_score, std_score, params in zip(grid_result.cv_results_['mean_test_score'],\n",
        "                                         grid_result.cv_results_['std_test_score'],\n",
        "                                         grid_result.cv_results_['params']):\n",
        "    print(f\"{mean_score:.4f} ({std_score:.4f}) with: {params}\")"
      ],
      "metadata": {
        "id": "KMCEDPJRpzQJ",
        "outputId": "787fe859-daf2-4f6a-e493-2af964dd8e96",
        "colab": {
          "base_uri": "https://localhost:8080/"
        }
      },
      "execution_count": 33,
      "outputs": [
        {
          "output_type": "stream",
          "name": "stdout",
          "text": [
            "Best: 0.671875 using {'model__lr': 0.01, 'model__momentum': 0.8}\n",
            "0.6432 (0.0049) with: {'model__lr': 0.001, 'model__momentum': 0.0}\n",
            "0.6523 (0.0115) with: {'model__lr': 0.001, 'model__momentum': 0.2}\n",
            "0.6589 (0.0203) with: {'model__lr': 0.001, 'model__momentum': 0.4}\n",
            "0.6510 (0.0103) with: {'model__lr': 0.001, 'model__momentum': 0.6}\n",
            "0.6484 (0.0139) with: {'model__lr': 0.001, 'model__momentum': 0.8}\n",
            "0.6576 (0.0103) with: {'model__lr': 0.001, 'model__momentum': 0.9}\n",
            "0.5768 (0.1152) with: {'model__lr': 0.01, 'model__momentum': 0.0}\n",
            "0.6276 (0.0639) with: {'model__lr': 0.01, 'model__momentum': 0.2}\n",
            "0.6432 (0.0453) with: {'model__lr': 0.01, 'model__momentum': 0.4}\n",
            "0.6185 (0.0465) with: {'model__lr': 0.01, 'model__momentum': 0.6}\n",
            "0.6719 (0.0139) with: {'model__lr': 0.01, 'model__momentum': 0.8}\n",
            "0.5143 (0.1240) with: {'model__lr': 0.01, 'model__momentum': 0.9}\n",
            "0.5495 (0.1427) with: {'model__lr': 0.1, 'model__momentum': 0.0}\n",
            "0.4505 (0.1427) with: {'model__lr': 0.1, 'model__momentum': 0.2}\n",
            "0.5495 (0.1427) with: {'model__lr': 0.1, 'model__momentum': 0.4}\n",
            "0.5495 (0.1427) with: {'model__lr': 0.1, 'model__momentum': 0.6}\n",
            "0.5495 (0.1427) with: {'model__lr': 0.1, 'model__momentum': 0.8}\n",
            "0.4479 (0.1446) with: {'model__lr': 0.1, 'model__momentum': 0.9}\n",
            "0.5755 (0.1059) with: {'model__lr': 0.2, 'model__momentum': 0.0}\n",
            "0.3490 (0.0018) with: {'model__lr': 0.2, 'model__momentum': 0.2}\n",
            "0.6510 (0.0018) with: {'model__lr': 0.2, 'model__momentum': 0.4}\n",
            "0.5534 (0.1399) with: {'model__lr': 0.2, 'model__momentum': 0.6}\n",
            "0.6510 (0.0018) with: {'model__lr': 0.2, 'model__momentum': 0.8}\n",
            "0.5495 (0.1427) with: {'model__lr': 0.2, 'model__momentum': 0.9}\n",
            "0.4479 (0.1418) with: {'model__lr': 0.3, 'model__momentum': 0.0}\n",
            "0.5495 (0.1427) with: {'model__lr': 0.3, 'model__momentum': 0.2}\n",
            "0.4505 (0.1427) with: {'model__lr': 0.3, 'model__momentum': 0.4}\n",
            "0.6510 (0.0018) with: {'model__lr': 0.3, 'model__momentum': 0.6}\n",
            "0.5495 (0.1427) with: {'model__lr': 0.3, 'model__momentum': 0.8}\n",
            "0.6302 (0.0286) with: {'model__lr': 0.3, 'model__momentum': 0.9}\n"
          ]
        }
      ]
    }
  ]
}