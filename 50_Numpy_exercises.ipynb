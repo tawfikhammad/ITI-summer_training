{
  "cells": [
    {
      "cell_type": "markdown",
      "id": "3c1222ff",
      "metadata": {
        "id": "3c1222ff"
      },
      "source": [
        "#### 1. Import the numpy package under the name `np` (★☆☆)"
      ]
    },
    {
      "cell_type": "code",
      "execution_count": null,
      "id": "f52e6a0b",
      "metadata": {
        "id": "f52e6a0b"
      },
      "outputs": [],
      "source": [
        "import numpy as np"
      ]
    },
    {
      "cell_type": "markdown",
      "id": "9d9f4753",
      "metadata": {
        "id": "9d9f4753"
      },
      "source": [
        "#### 2. Print the numpy version and the configuration (★☆☆)"
      ]
    },
    {
      "cell_type": "code",
      "execution_count": null,
      "id": "b7fa5fa1",
      "metadata": {
        "id": "b7fa5fa1",
        "colab": {
          "base_uri": "https://localhost:8080/"
        },
        "outputId": "2f0b3dba-a04a-425a-e459-1e85a69cabb3"
      },
      "outputs": [
        {
          "output_type": "stream",
          "name": "stdout",
          "text": [
            "1.26.4\n",
            "Build Dependencies:\n",
            "  blas:\n",
            "    detection method: pkgconfig\n",
            "    found: true\n",
            "    include directory: /usr/local/include\n",
            "    lib directory: /usr/local/lib\n",
            "    name: openblas64\n",
            "    openblas configuration: USE_64BITINT=1 DYNAMIC_ARCH=1 DYNAMIC_OLDER= NO_CBLAS=\n",
            "      NO_LAPACK= NO_LAPACKE= NO_AFFINITY=1 USE_OPENMP= HASWELL MAX_THREADS=2\n",
            "    pc file directory: /usr/local/lib/pkgconfig\n",
            "    version: 0.3.23.dev\n",
            "  lapack:\n",
            "    detection method: internal\n",
            "    found: true\n",
            "    include directory: unknown\n",
            "    lib directory: unknown\n",
            "    name: dep139863411681952\n",
            "    openblas configuration: unknown\n",
            "    pc file directory: unknown\n",
            "    version: 1.26.4\n",
            "Compilers:\n",
            "  c:\n",
            "    args: -fno-strict-aliasing\n",
            "    commands: cc\n",
            "    linker: ld.bfd\n",
            "    linker args: -Wl,--strip-debug, -fno-strict-aliasing\n",
            "    name: gcc\n",
            "    version: 10.2.1\n",
            "  c++:\n",
            "    commands: c++\n",
            "    linker: ld.bfd\n",
            "    linker args: -Wl,--strip-debug\n",
            "    name: gcc\n",
            "    version: 10.2.1\n",
            "  cython:\n",
            "    commands: cython\n",
            "    linker: cython\n",
            "    name: cython\n",
            "    version: 3.0.8\n",
            "Machine Information:\n",
            "  build:\n",
            "    cpu: x86_64\n",
            "    endian: little\n",
            "    family: x86_64\n",
            "    system: linux\n",
            "  host:\n",
            "    cpu: x86_64\n",
            "    endian: little\n",
            "    family: x86_64\n",
            "    system: linux\n",
            "Python Information:\n",
            "  path: /opt/python/cp310-cp310/bin/python\n",
            "  version: '3.10'\n",
            "SIMD Extensions:\n",
            "  baseline:\n",
            "  - SSE\n",
            "  - SSE2\n",
            "  - SSE3\n",
            "  found:\n",
            "  - SSSE3\n",
            "  - SSE41\n",
            "  - POPCNT\n",
            "  - SSE42\n",
            "  - AVX\n",
            "  - F16C\n",
            "  - FMA3\n",
            "  - AVX2\n",
            "  not found:\n",
            "  - AVX512F\n",
            "  - AVX512CD\n",
            "  - AVX512_KNL\n",
            "  - AVX512_KNM\n",
            "  - AVX512_SKX\n",
            "  - AVX512_CLX\n",
            "  - AVX512_CNL\n",
            "  - AVX512_ICL\n",
            "\n"
          ]
        }
      ],
      "source": [
        "\n",
        "print(np.__version__)\n",
        "np.show_config()\n"
      ]
    },
    {
      "cell_type": "markdown",
      "id": "3e4c23c6",
      "metadata": {
        "id": "3e4c23c6"
      },
      "source": [
        "#### 3. Create a null vector of size 10 (★☆☆)"
      ]
    },
    {
      "cell_type": "code",
      "source": [
        "x = np.zeros(10)\n",
        "print(x)"
      ],
      "metadata": {
        "colab": {
          "base_uri": "https://localhost:8080/"
        },
        "id": "IMDwFeL8WpVp",
        "outputId": "e5ab1259-4f0d-448d-a5fb-d92e2399bfbe"
      },
      "id": "IMDwFeL8WpVp",
      "execution_count": null,
      "outputs": [
        {
          "output_type": "stream",
          "name": "stdout",
          "text": [
            "[0. 0. 0. 0. 0. 0. 0. 0. 0. 0.]\n"
          ]
        }
      ]
    },
    {
      "cell_type": "markdown",
      "id": "c38bbe82",
      "metadata": {
        "id": "c38bbe82"
      },
      "source": [
        "#### 4. How to find the memory size of any array (★☆☆)"
      ]
    },
    {
      "cell_type": "code",
      "execution_count": null,
      "id": "02b04021",
      "metadata": {
        "id": "02b04021",
        "colab": {
          "base_uri": "https://localhost:8080/"
        },
        "outputId": "ba9c81fd-cf48-4f03-ee10-7232dbb5daf8"
      },
      "outputs": [
        {
          "output_type": "stream",
          "name": "stdout",
          "text": [
            "80 bytes\n"
          ]
        }
      ],
      "source": [
        "print(f\"{x.size * x.itemsize} bytes\")\n"
      ]
    },
    {
      "cell_type": "markdown",
      "id": "67f893d4",
      "metadata": {
        "id": "67f893d4"
      },
      "source": [
        "#### 5. How to get the documentation of the numpy add function from the command line? (★☆☆)"
      ]
    },
    {
      "cell_type": "code",
      "execution_count": null,
      "id": "40e6b70d",
      "metadata": {
        "id": "40e6b70d",
        "colab": {
          "base_uri": "https://localhost:8080/"
        },
        "outputId": "b54f22c1-ab74-4984-af52-21871bc59af0"
      },
      "outputs": [
        {
          "output_type": "stream",
          "name": "stdout",
          "text": [
            "add(x1, x2, /, out=None, *, where=True, casting='same_kind', order='K', dtype=None, subok=True[, signature, extobj])\n",
            "\n",
            "Add arguments element-wise.\n",
            "\n",
            "Parameters\n",
            "----------\n",
            "x1, x2 : array_like\n",
            "    The arrays to be added.\n",
            "    If ``x1.shape != x2.shape``, they must be broadcastable to a common\n",
            "    shape (which becomes the shape of the output).\n",
            "out : ndarray, None, or tuple of ndarray and None, optional\n",
            "    A location into which the result is stored. If provided, it must have\n",
            "    a shape that the inputs broadcast to. If not provided or None,\n",
            "    a freshly-allocated array is returned. A tuple (possible only as a\n",
            "    keyword argument) must have length equal to the number of outputs.\n",
            "where : array_like, optional\n",
            "    This condition is broadcast over the input. At locations where the\n",
            "    condition is True, the `out` array will be set to the ufunc result.\n",
            "    Elsewhere, the `out` array will retain its original value.\n",
            "    Note that if an uninitialized `out` array is created via the default\n",
            "    ``out=None``, locations within it where the condition is False will\n",
            "    remain uninitialized.\n",
            "**kwargs\n",
            "    For other keyword-only arguments, see the\n",
            "    :ref:`ufunc docs <ufuncs.kwargs>`.\n",
            "\n",
            "Returns\n",
            "-------\n",
            "add : ndarray or scalar\n",
            "    The sum of `x1` and `x2`, element-wise.\n",
            "    This is a scalar if both `x1` and `x2` are scalars.\n",
            "\n",
            "Notes\n",
            "-----\n",
            "Equivalent to `x1` + `x2` in terms of array broadcasting.\n",
            "\n",
            "Examples\n",
            "--------\n",
            ">>> np.add(1.0, 4.0)\n",
            "5.0\n",
            ">>> x1 = np.arange(9.0).reshape((3, 3))\n",
            ">>> x2 = np.arange(3.0)\n",
            ">>> np.add(x1, x2)\n",
            "array([[  0.,   2.,   4.],\n",
            "       [  3.,   5.,   7.],\n",
            "       [  6.,   8.,  10.]])\n",
            "\n",
            "The ``+`` operator can be used as a shorthand for ``np.add`` on ndarrays.\n",
            "\n",
            ">>> x1 = np.arange(9.0).reshape((3, 3))\n",
            ">>> x2 = np.arange(3.0)\n",
            ">>> x1 + x2\n",
            "array([[ 0.,  2.,  4.],\n",
            "       [ 3.,  5.,  7.],\n",
            "       [ 6.,  8., 10.]])\n"
          ]
        }
      ],
      "source": [
        "np.info(np.add)\n"
      ]
    },
    {
      "cell_type": "markdown",
      "id": "e0c739c6",
      "metadata": {
        "id": "e0c739c6"
      },
      "source": [
        "#### 6. Create a null vector of size 10 but the fifth value which is 1 (★☆☆)"
      ]
    },
    {
      "cell_type": "code",
      "execution_count": null,
      "id": "bcceacf7",
      "metadata": {
        "id": "bcceacf7",
        "colab": {
          "base_uri": "https://localhost:8080/"
        },
        "outputId": "549e00fe-5193-49a6-e33c-7a5fcc706a4c"
      },
      "outputs": [
        {
          "output_type": "stream",
          "name": "stdout",
          "text": [
            "[0. 0. 0. 0. 1. 0. 0. 0. 0. 0.]\n"
          ]
        }
      ],
      "source": [
        "x = np.zeros(10)\n",
        "x[4] = 1\n",
        "print(x)\n"
      ]
    },
    {
      "cell_type": "markdown",
      "id": "fbebedab",
      "metadata": {
        "id": "fbebedab"
      },
      "source": [
        "#### 7. Create a vector with values ranging from 10 to 49 (★☆☆)"
      ]
    },
    {
      "cell_type": "code",
      "execution_count": null,
      "id": "3d117d54",
      "metadata": {
        "id": "3d117d54",
        "colab": {
          "base_uri": "https://localhost:8080/"
        },
        "outputId": "fe241694-77a4-4b7d-f1fe-50fad0281619"
      },
      "outputs": [
        {
          "output_type": "stream",
          "name": "stdout",
          "text": [
            "[10 11 12 13 14 15 16 17 18 19 20 21 22 23 24 25 26 27 28 29 30 31 32 33\n",
            " 34 35 36 37 38 39 40 41 42 43 44 45 46 47 48 49]\n"
          ]
        }
      ],
      "source": [
        "x = np.arange(10,50)\n",
        "print(x)\n"
      ]
    },
    {
      "cell_type": "markdown",
      "id": "ad0bff02",
      "metadata": {
        "id": "ad0bff02"
      },
      "source": [
        "#### 8. Reverse a vector (first element becomes last) (★☆☆)"
      ]
    },
    {
      "cell_type": "code",
      "execution_count": null,
      "id": "22d23470",
      "metadata": {
        "id": "22d23470",
        "colab": {
          "base_uri": "https://localhost:8080/"
        },
        "outputId": "b5b54d61-4124-4c2b-829f-cc4cb21a4a79"
      },
      "outputs": [
        {
          "output_type": "stream",
          "name": "stdout",
          "text": [
            "[49 48 47 46 45 44 43 42 41 40 39 38 37 36 35 34 33 32 31 30 29 28 27 26\n",
            " 25 24 23 22 21 20 19 18 17 16 15 14 13 12 11 10]\n"
          ]
        }
      ],
      "source": [
        "x = x[::-1]\n",
        "print(x)\n"
      ]
    },
    {
      "cell_type": "markdown",
      "id": "9f59d7e1",
      "metadata": {
        "id": "9f59d7e1"
      },
      "source": [
        "#### 9. Create a 3x3 matrix with values ranging from 0 to 8 (★☆☆)"
      ]
    },
    {
      "cell_type": "code",
      "execution_count": null,
      "id": "7449e82d",
      "metadata": {
        "id": "7449e82d",
        "colab": {
          "base_uri": "https://localhost:8080/"
        },
        "outputId": "1d7241b0-db51-4c1e-805d-c416752c0219"
      },
      "outputs": [
        {
          "output_type": "stream",
          "name": "stdout",
          "text": [
            "[[0 1 2]\n",
            " [3 4 5]\n",
            " [6 7 8]]\n"
          ]
        }
      ],
      "source": [
        "x = np.arange(9).reshape(3,3)\n",
        "print(x)\n"
      ]
    },
    {
      "cell_type": "markdown",
      "id": "f374c4cf",
      "metadata": {
        "id": "f374c4cf"
      },
      "source": [
        "#### 10. Find indices of non-zero elements from [1,2,0,0,4,0] (★☆☆)"
      ]
    },
    {
      "cell_type": "code",
      "execution_count": null,
      "id": "1a84bed8",
      "metadata": {
        "id": "1a84bed8",
        "colab": {
          "base_uri": "https://localhost:8080/"
        },
        "outputId": "4d5fd3c5-d029-4905-ae12-36a1f9dbbeea"
      },
      "outputs": [
        {
          "output_type": "stream",
          "name": "stdout",
          "text": [
            "(array([0, 1, 4]),)\n"
          ]
        }
      ],
      "source": [
        "non_zero = np.nonzero([1,2,0,0,4,0])\n",
        "print(non_zero)\n"
      ]
    },
    {
      "cell_type": "markdown",
      "id": "9c4707f5",
      "metadata": {
        "id": "9c4707f5"
      },
      "source": [
        "#### 11. Create a 3x3 identity matrix (★☆☆)"
      ]
    },
    {
      "cell_type": "code",
      "execution_count": null,
      "id": "29dc1fd3",
      "metadata": {
        "id": "29dc1fd3",
        "colab": {
          "base_uri": "https://localhost:8080/"
        },
        "outputId": "9bbf1163-a172-4e2b-9d99-16e327e6aa30"
      },
      "outputs": [
        {
          "output_type": "stream",
          "name": "stdout",
          "text": [
            "[[1. 0. 0.]\n",
            " [0. 1. 0.]\n",
            " [0. 0. 1.]]\n"
          ]
        }
      ],
      "source": [
        "identity_matrix = np.eye(3)\n",
        "print(identity_matrix)\n"
      ]
    },
    {
      "cell_type": "code",
      "source": [
        "identity_matrix = np.identity(3)\n",
        "print(identity_matrix)"
      ],
      "metadata": {
        "colab": {
          "base_uri": "https://localhost:8080/"
        },
        "id": "n00bdqqVR1V0",
        "outputId": "fa6fe734-cc93-4321-f5cb-87dc9dcecda7"
      },
      "id": "n00bdqqVR1V0",
      "execution_count": null,
      "outputs": [
        {
          "output_type": "stream",
          "name": "stdout",
          "text": [
            "[[1. 0. 0.]\n",
            " [0. 1. 0.]\n",
            " [0. 0. 1.]]\n"
          ]
        }
      ]
    },
    {
      "cell_type": "markdown",
      "id": "3bac294a",
      "metadata": {
        "id": "3bac294a"
      },
      "source": [
        "#### 12. Create a 3x3x3 array with random values (★☆☆)"
      ]
    },
    {
      "cell_type": "code",
      "source": [
        "x = np.random.rand(3,3,3)\n",
        "print(x)"
      ],
      "metadata": {
        "colab": {
          "base_uri": "https://localhost:8080/"
        },
        "id": "wdeVu6ALY0Gj",
        "outputId": "0cab4fa5-6683-4d74-ec8d-c88b2b785b12"
      },
      "id": "wdeVu6ALY0Gj",
      "execution_count": null,
      "outputs": [
        {
          "output_type": "stream",
          "name": "stdout",
          "text": [
            "[[[0.38786612 0.32262543 0.02452889]\n",
            "  [0.42488914 0.04410528 0.37430242]\n",
            "  [0.80347763 0.74333868 0.14350455]]\n",
            "\n",
            " [[0.71850291 0.2811561  0.47672797]\n",
            "  [0.29198753 0.51717354 0.38318964]\n",
            "  [0.9924253  0.22662499 0.41346469]]\n",
            "\n",
            " [[0.8046385  0.23270061 0.64994811]\n",
            "  [0.99747458 0.62103544 0.17439443]\n",
            "  [0.6786367  0.97118143 0.34998606]]]\n"
          ]
        }
      ]
    },
    {
      "cell_type": "markdown",
      "id": "466c2989",
      "metadata": {
        "id": "466c2989"
      },
      "source": [
        "#### 13. Create a 10x10 array with random values and find the minimum and maximum values (★☆☆)"
      ]
    },
    {
      "cell_type": "code",
      "execution_count": null,
      "id": "9a74dbfc",
      "metadata": {
        "id": "9a74dbfc",
        "colab": {
          "base_uri": "https://localhost:8080/"
        },
        "outputId": "233e2aa9-0dd8-41be-d82b-93b1bf8b10b2"
      },
      "outputs": [
        {
          "output_type": "stream",
          "name": "stdout",
          "text": [
            "[[[0.7766194  0.44470232 0.47419747]\n",
            "  [0.46300885 0.08076036 0.2487482 ]\n",
            "  [0.58746225 0.08454782 0.08955581]]\n",
            "\n",
            " [[0.07021834 0.30544642 0.98715411]\n",
            "  [0.39660469 0.72869175 0.47510482]\n",
            "  [0.48062895 0.5720042  0.00784263]]\n",
            "\n",
            " [[0.31390297 0.91905962 0.76727977]\n",
            "  [0.42935784 0.8557851  0.29651471]\n",
            "  [0.0314716  0.76963518 0.00110436]]]\n",
            "\n",
            "0.001104356150747332 0.9871541090736007\n"
          ]
        }
      ],
      "source": [
        "x = np.random.rand(3,3,3)\n",
        "min = x.min()\n",
        "max = x.max()\n",
        "print(x)\n",
        "print()\n",
        "print(min, max)\n"
      ]
    },
    {
      "cell_type": "markdown",
      "id": "53a8edb2",
      "metadata": {
        "id": "53a8edb2"
      },
      "source": [
        "#### 14. Create a random vector of size 30 and find the mean value (★☆☆)"
      ]
    },
    {
      "cell_type": "code",
      "execution_count": null,
      "id": "6691530b",
      "metadata": {
        "id": "6691530b",
        "colab": {
          "base_uri": "https://localhost:8080/"
        },
        "outputId": "1d249122-5698-4904-9ce2-325b4de3756d"
      },
      "outputs": [
        {
          "output_type": "stream",
          "name": "stdout",
          "text": [
            "[0.55287075 0.1901805  0.0262106  0.14625159 0.51285028 0.03622574\n",
            " 0.19986763 0.31976727 0.43602276 0.2142091  0.47942256 0.42577141\n",
            " 0.57645015 0.10388639 0.28358314 0.76466181 0.32896571 0.89594708\n",
            " 0.98940022 0.22546107 0.61535161 0.77879667 0.765038   0.14695241\n",
            " 0.84984998 0.92408116 0.19865952 0.68763024 0.62972466 0.0716798 ]\n",
            "\n",
            "0.44585899402161183\n"
          ]
        }
      ],
      "source": [
        "x = np.random.rand(30)\n",
        "m = x.mean()\n",
        "print (x)\n",
        "print()\n",
        "print(m)\n"
      ]
    },
    {
      "cell_type": "markdown",
      "id": "cbaad31c",
      "metadata": {
        "id": "cbaad31c"
      },
      "source": [
        "#### 15. Create a 2d array with 1 on the border and 0 inside (★☆☆)"
      ]
    },
    {
      "cell_type": "code",
      "execution_count": null,
      "id": "ad8308e3",
      "metadata": {
        "id": "ad8308e3",
        "colab": {
          "base_uri": "https://localhost:8080/"
        },
        "outputId": "9b771ac7-cffe-4282-b9a3-ead53d497784"
      },
      "outputs": [
        {
          "output_type": "stream",
          "name": "stdout",
          "text": [
            "Enter the number of rows and cols: 5 5\n",
            "[[1 1 1 1 1]\n",
            " [1 0 0 0 1]\n",
            " [1 0 0 0 1]\n",
            " [1 0 0 0 1]\n",
            " [1 1 1 1 1]]\n"
          ]
        }
      ],
      "source": [
        "import numpy as np\n",
        "\n",
        "rows, cols = map(int, input(\"Enter the number of rows and cols: \").split())\n",
        "array = np.zeros((rows, cols), dtype=int)\n",
        "\n",
        "array[0, :] = 1\n",
        "array[-1, :] = 1\n",
        "array[:, 0] = 1\n",
        "array[:, -1] = 1\n",
        "\n",
        "print(array)\n"
      ]
    },
    {
      "cell_type": "markdown",
      "id": "c5ecc267",
      "metadata": {
        "id": "c5ecc267"
      },
      "source": [
        "#### 16. How to add a border (filled with 0's) around an existing array? (★☆☆)"
      ]
    },
    {
      "cell_type": "code",
      "execution_count": null,
      "id": "9d5c78c4",
      "metadata": {
        "id": "9d5c78c4",
        "colab": {
          "base_uri": "https://localhost:8080/"
        },
        "outputId": "219514f1-a647-477d-8000-35822e1b146b"
      },
      "outputs": [
        {
          "output_type": "stream",
          "name": "stdout",
          "text": [
            "Array with Border of Zeros:\n",
            "[[0 0 0 0 0]\n",
            " [0 1 2 3 0]\n",
            " [0 4 5 6 0]\n",
            " [0 7 8 9 0]\n",
            " [0 0 0 0 0]]\n"
          ]
        }
      ],
      "source": [
        "import numpy as np\n",
        "\n",
        "array = np.array([[1, 2, 3], [4, 5, 6],[7, 8, 9]])\n",
        "borderd = np.pad(array, pad_width=1, mode='constant', constant_values=0)\n",
        "\n",
        "\n",
        "print(\"Array with Border of Zeros:\")\n",
        "print(borderd)\n"
      ]
    },
    {
      "cell_type": "markdown",
      "id": "ef909b72",
      "metadata": {
        "id": "ef909b72"
      },
      "source": [
        "#### 17. What is the result of the following expression? (★☆☆)\n",
        "```python\n",
        "0 * np.nan\n",
        "np.nan == np.nan\n",
        "np.inf > np.nan\n",
        "np.nan - np.nan\n",
        "np.nan in set([np.nan])\n",
        "0.3 == 3 * 0.1\n",
        "```"
      ]
    },
    {
      "cell_type": "markdown",
      "source": [
        "nan\n",
        "\n",
        "False\n",
        "\n",
        "False\n",
        "\n",
        "nan\n",
        "\n",
        "True\n",
        "\n",
        "False"
      ],
      "metadata": {
        "id": "LHznGrtUa5WE"
      },
      "id": "LHznGrtUa5WE"
    },
    {
      "cell_type": "markdown",
      "id": "502738ac",
      "metadata": {
        "id": "502738ac"
      },
      "source": [
        "#### 18. Create a 5x5 matrix with values 1,2,3,4 just below the diagonal (★☆☆)"
      ]
    },
    {
      "cell_type": "code",
      "execution_count": null,
      "id": "faed6e2b",
      "metadata": {
        "id": "faed6e2b",
        "colab": {
          "base_uri": "https://localhost:8080/"
        },
        "outputId": "033b1fb2-3878-4126-caf9-5f15d0d4804b"
      },
      "outputs": [
        {
          "output_type": "stream",
          "name": "stdout",
          "text": [
            "[[0 0 0 0 0]\n",
            " [1 0 0 0 0]\n",
            " [0 2 0 0 0]\n",
            " [0 0 3 0 0]\n",
            " [0 0 0 4 0]]\n"
          ]
        }
      ],
      "source": [
        "matrix = np.diag([1, 2, 3, 4], k=-1)\n",
        "print(matrix)"
      ]
    },
    {
      "cell_type": "markdown",
      "id": "a65da660",
      "metadata": {
        "id": "a65da660"
      },
      "source": [
        "#### 19. Create a 8x8 matrix and fill it with a checkerboard pattern (★☆☆)"
      ]
    },
    {
      "cell_type": "code",
      "execution_count": null,
      "id": "ed150400",
      "metadata": {
        "id": "ed150400",
        "colab": {
          "base_uri": "https://localhost:8080/"
        },
        "outputId": "a0235ae4-0f6a-4e03-a7fc-f48218c77164"
      },
      "outputs": [
        {
          "output_type": "stream",
          "name": "stdout",
          "text": [
            "[[0 1 0 1 0 1 0 1]\n",
            " [1 0 1 0 1 0 1 0]\n",
            " [0 1 0 1 0 1 0 1]\n",
            " [1 0 1 0 1 0 1 0]\n",
            " [0 1 0 1 0 1 0 1]\n",
            " [1 0 1 0 1 0 1 0]\n",
            " [0 1 0 1 0 1 0 1]\n",
            " [1 0 1 0 1 0 1 0]]\n"
          ]
        }
      ],
      "source": [
        "matrix = np.zeros((8, 8), dtype=int)\n",
        "\n",
        "matrix[1::2, ::2] = 1\n",
        "matrix[::2, 1::2] = 1\n",
        "\n",
        "print(matrix)"
      ]
    },
    {
      "cell_type": "markdown",
      "id": "66bfda35",
      "metadata": {
        "id": "66bfda35"
      },
      "source": [
        "#### 21. Create a checkerboard 8x8 matrix using the tile function (search on it )"
      ]
    },
    {
      "cell_type": "code",
      "execution_count": null,
      "id": "4c07477c",
      "metadata": {
        "id": "4c07477c",
        "colab": {
          "base_uri": "https://localhost:8080/"
        },
        "outputId": "6b7b4e18-d264-45b9-874c-05ae14926445"
      },
      "outputs": [
        {
          "output_type": "stream",
          "name": "stdout",
          "text": [
            "[[0 1 0 1 0 1 0 1]\n",
            " [1 0 1 0 1 0 1 0]\n",
            " [0 1 0 1 0 1 0 1]\n",
            " [1 0 1 0 1 0 1 0]\n",
            " [0 1 0 1 0 1 0 1]\n",
            " [1 0 1 0 1 0 1 0]\n",
            " [0 1 0 1 0 1 0 1]\n",
            " [1 0 1 0 1 0 1 0]]\n"
          ]
        }
      ],
      "source": [
        "checkerboard_2x2 = np.array([[0, 1], [1, 0]])\n",
        "\n",
        "checkerboard_8x8 = np.tile(checkerboard_2x2, (4, 4))\n",
        "\n",
        "print(checkerboard_8x8)"
      ]
    },
    {
      "cell_type": "markdown",
      "id": "d5bcfc08",
      "metadata": {
        "id": "d5bcfc08"
      },
      "source": [
        "#### 22. Normalize a 5x5 random matrix knowing normalization = (x-min/max-min )\n",
        "\n",
        "> Add blockquote\n",
        "\n"
      ]
    },
    {
      "cell_type": "code",
      "execution_count": null,
      "id": "cea6c993",
      "metadata": {
        "id": "cea6c993",
        "colab": {
          "base_uri": "https://localhost:8080/"
        },
        "outputId": "fb519bcb-3300-46b7-8aa4-5a2cba16efdd"
      },
      "outputs": [
        {
          "output_type": "stream",
          "name": "stdout",
          "text": [
            "[0.55263776 0.1759968  0.00571987 0.13037818 0.51107792 0.01612024\n",
            " 0.18605654 0.31056806 0.43129526 0.20094965 0.47636441 0.4206496\n",
            " 0.57712413 0.08638342 0.27299213 0.77257526 0.32012032 0.90891036\n",
            " 1.00595813 0.21263442 0.61752192 0.78725381 0.77296592 0.13110596\n",
            " 0.86104016 0.9381266  0.18480196 0.69258071 0.63244782 0.05293803]\n"
          ]
        }
      ],
      "source": [
        "matrix = np.random.rand(5, 5)\n",
        "\n",
        "min = matrix.min()\n",
        "max = matrix.max()\n",
        "\n",
        "normalized_matrix = (x-min) / (max-min)\n",
        "\n",
        "print(normalized_matrix)"
      ]
    },
    {
      "cell_type": "markdown",
      "id": "654805b1",
      "metadata": {
        "id": "654805b1"
      },
      "source": [
        "#### 24. Multiply a 5x3 matrix by a 3x2 matrix (real matrix product) (★☆☆)"
      ]
    },
    {
      "cell_type": "code",
      "execution_count": null,
      "id": "6a42619f",
      "metadata": {
        "id": "6a42619f",
        "colab": {
          "base_uri": "https://localhost:8080/"
        },
        "outputId": "9d37c670-6c6b-4ae2-ac93-6b94b35f8ee2"
      },
      "outputs": [
        {
          "output_type": "stream",
          "name": "stdout",
          "text": [
            "[[0.73275123 0.39805983]\n",
            " [0.42506084 0.31856589]\n",
            " [0.47465285 0.25138372]\n",
            " [0.32560931 0.23399815]\n",
            " [0.51164795 0.27643803]]\n"
          ]
        }
      ],
      "source": [
        "matrix_a = np.random.rand(5, 3)\n",
        "matrix_b = np.random.rand(3, 2)\n",
        "\n",
        "result = np.dot(matrix_a, matrix_b)\n",
        "\n",
        "print(result)"
      ]
    },
    {
      "cell_type": "markdown",
      "id": "994c25df",
      "metadata": {
        "id": "994c25df"
      },
      "source": [
        "#### 25. Given a 1D array, negate all elements which are between 3 and 8, in place. (★☆☆)"
      ]
    },
    {
      "cell_type": "code",
      "execution_count": null,
      "id": "e4b39c03",
      "metadata": {
        "id": "e4b39c03",
        "colab": {
          "base_uri": "https://localhost:8080/"
        },
        "outputId": "dad20f52-5c19-4cd6-c2ba-e84f35389655"
      },
      "outputs": [
        {
          "output_type": "stream",
          "name": "stdout",
          "text": [
            "[ 1  2 -4 -5 -6 -7  8  9 10]\n"
          ]
        }
      ],
      "source": [
        "array = np.array([1, 2, 4, 5, 6, 7, 8, 9, 10])\n",
        "\n",
        "array[(array > 3) & (array < 8)] *= -1\n",
        "\n",
        "print(array)"
      ]
    },
    {
      "cell_type": "markdown",
      "id": "c34e94bf",
      "metadata": {
        "id": "c34e94bf"
      },
      "source": [
        "#### 28. What are the result of the following expressions? (★☆☆)\n",
        "```python\n",
        "np.array(0) / np.array(0)\n",
        "np.array(0) // np.array(0)\n",
        "np.array([np.nan]).astype(int).astype(float)\n",
        "```"
      ]
    },
    {
      "cell_type": "markdown",
      "source": [
        "nan\n",
        "\n",
        "0   RuntimeWarning: divide by zero encountered in floor_divide\n",
        "\n",
        "np.array([np.nan])"
      ],
      "metadata": {
        "id": "lqLYbGCzfLDz"
      },
      "id": "lqLYbGCzfLDz"
    },
    {
      "cell_type": "markdown",
      "id": "eadca856",
      "metadata": {
        "id": "eadca856"
      },
      "source": [
        "#### 30. How to find common values between two arrays? (★☆☆)"
      ]
    },
    {
      "cell_type": "code",
      "execution_count": null,
      "id": "e0270b5b",
      "metadata": {
        "id": "e0270b5b",
        "colab": {
          "base_uri": "https://localhost:8080/"
        },
        "outputId": "ee978be1-ceac-4112-f54a-6940cc15bae6"
      },
      "outputs": [
        {
          "output_type": "stream",
          "name": "stdout",
          "text": [
            "[4 5 6]\n"
          ]
        }
      ],
      "source": [
        "array1 = np.array([1, 2, 3, 4, 5, 6])\n",
        "array2 = np.array([4, 5, 6, 7, 8, 9])\n",
        "\n",
        "values = np.intersect1d(array1, array2)\n",
        "\n",
        "print(values)"
      ]
    },
    {
      "cell_type": "markdown",
      "id": "c7871d0d",
      "metadata": {
        "id": "c7871d0d"
      },
      "source": [
        "#### 32. Is the following expressions true? (★☆☆)\n",
        "```python\n",
        "np.sqrt(-1) == np.emath.sqrt(-1)\n",
        "```"
      ]
    },
    {
      "cell_type": "markdown",
      "source": [
        "False\n",
        "\n",
        " np.sqrt(-1) will produce a nan, can't handle negative inputs\n",
        "\n",
        " np.emath.sqrt(-1) will return 1j , it compute the square root of negative numbers and return a complex result.\n",
        "\n"
      ],
      "metadata": {
        "id": "ksq_BEvUgvev"
      },
      "id": "ksq_BEvUgvev"
    },
    {
      "cell_type": "markdown",
      "id": "e0433e30",
      "metadata": {
        "id": "e0433e30"
      },
      "source": [
        "#### 33. How to get the dates of yesterday, today and tomorrow? (★☆☆)"
      ]
    },
    {
      "cell_type": "code",
      "execution_count": null,
      "id": "9c4d2152",
      "metadata": {
        "id": "9c4d2152",
        "colab": {
          "base_uri": "https://localhost:8080/"
        },
        "outputId": "654b5e08-3bc6-4cb3-dc09-de0b8fd1e5ab"
      },
      "outputs": [
        {
          "output_type": "stream",
          "name": "stdout",
          "text": [
            "Yesterday: 2024-08-10\n",
            "Today: 2024-08-11\n",
            "Tomorrow: 2024-08-12\n"
          ]
        }
      ],
      "source": [
        "from datetime import datetime, timedelta\n",
        "\n",
        "today = datetime.now().date()\n",
        "yesterday = today - timedelta(days=1)\n",
        "tomorrow = today + timedelta(days=1)\n",
        "\n",
        "print(\"Yesterday:\", yesterday)\n",
        "print(\"Today:\", today)\n",
        "print(\"Tomorrow:\", tomorrow)\n"
      ]
    },
    {
      "cell_type": "markdown",
      "id": "9f52a2ef",
      "metadata": {
        "id": "9f52a2ef"
      },
      "source": [
        "#### 34. How to get all the dates corresponding to the month of July 2016? (★★☆)"
      ]
    },
    {
      "cell_type": "code",
      "execution_count": null,
      "id": "d6c34dec",
      "metadata": {
        "id": "d6c34dec",
        "colab": {
          "base_uri": "https://localhost:8080/"
        },
        "outputId": "766c527e-545a-45ab-e6eb-47a387841835"
      },
      "outputs": [
        {
          "output_type": "stream",
          "name": "stdout",
          "text": [
            "2016-07-01\n",
            "2016-07-02\n",
            "2016-07-03\n",
            "2016-07-04\n",
            "2016-07-05\n",
            "2016-07-06\n",
            "2016-07-07\n",
            "2016-07-08\n",
            "2016-07-09\n",
            "2016-07-10\n",
            "2016-07-11\n",
            "2016-07-12\n",
            "2016-07-13\n",
            "2016-07-14\n",
            "2016-07-15\n",
            "2016-07-16\n",
            "2016-07-17\n",
            "2016-07-18\n",
            "2016-07-19\n",
            "2016-07-20\n",
            "2016-07-21\n",
            "2016-07-22\n",
            "2016-07-23\n",
            "2016-07-24\n",
            "2016-07-25\n",
            "2016-07-26\n",
            "2016-07-27\n",
            "2016-07-28\n",
            "2016-07-29\n",
            "2016-07-30\n",
            "2016-07-31\n"
          ]
        }
      ],
      "source": [
        "import calendar\n",
        "from datetime import datetime, timedelta\n",
        "\n",
        "_, num_days = calendar.monthrange(2016, 7)\n",
        "\n",
        "dates = [datetime(2016, 7, day) for day in range(1, num_days+1)]\n",
        "\n",
        "for date in dates:\n",
        "    print(date.strftime('%Y-%m-%d'))\n"
      ]
    },
    {
      "cell_type": "markdown",
      "id": "4a64e059",
      "metadata": {
        "id": "4a64e059"
      },
      "source": [
        "#### 35. How to compute ((A+B)*(-A/2)) in place (without copy)? (★★☆)"
      ]
    },
    {
      "cell_type": "code",
      "execution_count": null,
      "id": "49267f60",
      "metadata": {
        "id": "49267f60",
        "colab": {
          "base_uri": "https://localhost:8080/"
        },
        "outputId": "6bc76f23-62a8-4982-c8f1-716ad70fca6c"
      },
      "outputs": [
        {
          "output_type": "stream",
          "name": "stdout",
          "text": [
            "[-3. -4. -5. -6.]\n"
          ]
        }
      ],
      "source": [
        "A = np.array([1, 2, 3, 4])\n",
        "B = np.array([5, 6, 7, 8])\n",
        "\n",
        "A += B\n",
        "result= A* -0.5\n",
        "\n",
        "\n",
        "print(result)"
      ]
    },
    {
      "cell_type": "markdown",
      "id": "8a98c2a8",
      "metadata": {
        "id": "8a98c2a8"
      },
      "source": [
        "#### 36. Extract the integer part of a random array of positive numbers using 4 different methods (★★☆)"
      ]
    },
    {
      "cell_type": "code",
      "execution_count": null,
      "id": "368130b3",
      "metadata": {
        "id": "368130b3"
      },
      "outputs": [],
      "source": []
    },
    {
      "cell_type": "markdown",
      "id": "5a2e3d85",
      "metadata": {
        "id": "5a2e3d85"
      },
      "source": [
        "#### 37. Create a 5x5 matrix with row values ranging from 0 to 4 (★★☆)"
      ]
    },
    {
      "cell_type": "code",
      "execution_count": null,
      "id": "1d974e8f",
      "metadata": {
        "id": "1d974e8f",
        "colab": {
          "base_uri": "https://localhost:8080/"
        },
        "outputId": "a35f2cea-767b-41ef-da76-678364a6226e"
      },
      "outputs": [
        {
          "output_type": "execute_result",
          "data": {
            "text/plain": [
              "array([[0, 1, 2, 3, 4],\n",
              "       [1, 2, 3, 4, 5],\n",
              "       [2, 3, 4, 5, 6],\n",
              "       [3, 4, 5, 6, 7],\n",
              "       [4, 5, 6, 7, 8]])"
            ]
          },
          "metadata": {},
          "execution_count": 43
        }
      ],
      "source": [
        "np.arange(5).reshape(1, 5) + np.arange(5).reshape(5, 1)\n"
      ]
    },
    {
      "cell_type": "markdown",
      "id": "9720e2d5",
      "metadata": {
        "id": "9720e2d5"
      },
      "source": [
        "#### 38. Consider a generator function that generates 10 integers and use it to build an array (★☆☆)"
      ]
    },
    {
      "cell_type": "code",
      "execution_count": null,
      "id": "e5dd8fc9",
      "metadata": {
        "id": "e5dd8fc9",
        "colab": {
          "base_uri": "https://localhost:8080/"
        },
        "outputId": "8c3587d1-9625-4dfe-88d9-116782a0a7c6"
      },
      "outputs": [
        {
          "output_type": "execute_result",
          "data": {
            "text/plain": [
              "array([54, 91, 52, 56, 92, 83, 57, 59, 84, 74])"
            ]
          },
          "metadata": {},
          "execution_count": 45
        }
      ],
      "source": [
        "def integer_generator():\n",
        "    for i in np.random.randint(50,100,10):\n",
        "        yield i\n",
        "\n",
        "generator = integer_generator()\n",
        "np.array(list(generator))"
      ]
    },
    {
      "cell_type": "markdown",
      "id": "c6f2c912",
      "metadata": {
        "id": "c6f2c912"
      },
      "source": [
        "#### 39. Create a vector of size 10 with values ranging from 0 to 1, both excluded (★★☆)"
      ]
    },
    {
      "cell_type": "code",
      "execution_count": null,
      "id": "6aaa27d3",
      "metadata": {
        "id": "6aaa27d3",
        "colab": {
          "base_uri": "https://localhost:8080/"
        },
        "outputId": "3e5cf356-d27a-4cb4-eef0-6f0269c13c7b"
      },
      "outputs": [
        {
          "output_type": "execute_result",
          "data": {
            "text/plain": [
              "array([0.09090909, 0.18181818, 0.27272727, 0.36363636, 0.45454545,\n",
              "       0.54545455, 0.63636364, 0.72727273, 0.81818182, 0.90909091])"
            ]
          },
          "metadata": {},
          "execution_count": 46
        }
      ],
      "source": [
        "np.linspace(0, 1, num=12)[1:-1]\n"
      ]
    },
    {
      "cell_type": "markdown",
      "id": "a36d6ee4",
      "metadata": {
        "id": "a36d6ee4"
      },
      "source": [
        "#### 40. Create a random vector of size 10 and sort it (★★☆)"
      ]
    },
    {
      "cell_type": "code",
      "execution_count": null,
      "id": "e589d216",
      "metadata": {
        "id": "e589d216",
        "colab": {
          "base_uri": "https://localhost:8080/"
        },
        "outputId": "8694da8a-8741-4a27-b613-9506f3088c4b"
      },
      "outputs": [
        {
          "output_type": "execute_result",
          "data": {
            "text/plain": [
              "array([ 0, 10, 16, 21, 37, 45, 46, 84, 98, 98])"
            ]
          },
          "metadata": {},
          "execution_count": 47
        }
      ],
      "source": [
        "random_vector = np.random.randint(0,100,10)\n",
        "\n",
        "np.sort(random_vector)"
      ]
    },
    {
      "cell_type": "markdown",
      "id": "0fb4ad68",
      "metadata": {
        "id": "0fb4ad68"
      },
      "source": [
        "#### 41. How to sum a small array faster than np.sum? (★★☆)"
      ]
    },
    {
      "cell_type": "code",
      "execution_count": null,
      "id": "a1ba05a0",
      "metadata": {
        "id": "a1ba05a0",
        "colab": {
          "base_uri": "https://localhost:8080/"
        },
        "outputId": "5fc382e0-6898-4730-f1ef-c95828d591a1"
      },
      "outputs": [
        {
          "output_type": "stream",
          "name": "stdout",
          "text": [
            "0.00021576881408691406\n",
            "15\n"
          ]
        }
      ],
      "source": [
        "import time\n",
        "\n",
        "s_time = time.time()\n",
        "\n",
        "arr = np.array([1, 2, 3, 4, 5])\n",
        "sum= np.cumsum(arr)[-1]\n",
        "\n",
        "e_time = time.time()\n",
        "\n",
        "time = e_time - s_time\n",
        "\n",
        "print(time)\n",
        "print(sum)\n"
      ]
    },
    {
      "cell_type": "code",
      "source": [
        "import time\n",
        "\n",
        "s_time = time.time()\n",
        "\n",
        "arr = np.array([1, 2, 3, 4, 5])\n",
        "sum= np.sum(arr)\n",
        "\n",
        "e_time = time.time()\n",
        "\n",
        "time = e_time - s_time\n",
        "\n",
        "print(time)\n",
        "print(sum)"
      ],
      "metadata": {
        "colab": {
          "base_uri": "https://localhost:8080/"
        },
        "id": "7Sp5J8bFqq26",
        "outputId": "d20f5e13-7454-4aa3-e267-dff5f304a576"
      },
      "id": "7Sp5J8bFqq26",
      "execution_count": null,
      "outputs": [
        {
          "output_type": "stream",
          "name": "stdout",
          "text": [
            "0.00022673606872558594\n",
            "15\n"
          ]
        }
      ]
    },
    {
      "cell_type": "markdown",
      "id": "024ac365",
      "metadata": {
        "id": "024ac365"
      },
      "source": [
        "#### 42. Consider two random array A and B, check if they are equal (★★☆)"
      ]
    },
    {
      "cell_type": "code",
      "execution_count": null,
      "id": "7db3846d",
      "metadata": {
        "id": "7db3846d",
        "colab": {
          "base_uri": "https://localhost:8080/"
        },
        "outputId": "13f74802-b036-4fd2-9361-1a9e169d6aa9"
      },
      "outputs": [
        {
          "output_type": "execute_result",
          "data": {
            "text/plain": [
              "False"
            ]
          },
          "metadata": {},
          "execution_count": 52
        }
      ],
      "source": [
        "A = np.random.rand(5)\n",
        "B = np.random.rand(5)\n",
        "\n",
        "np.array_equal(A, B)"
      ]
    },
    {
      "cell_type": "markdown",
      "id": "2f60f1ec",
      "metadata": {
        "id": "2f60f1ec"
      },
      "source": [
        "#### 45. Create random vector of size 10 and replace the maximum value by 0 (★★☆)"
      ]
    },
    {
      "cell_type": "code",
      "execution_count": null,
      "id": "d9f48f1c",
      "metadata": {
        "id": "d9f48f1c",
        "colab": {
          "base_uri": "https://localhost:8080/"
        },
        "outputId": "c687b284-466b-443a-83b3-8e18f820e0b2"
      },
      "outputs": [
        {
          "output_type": "stream",
          "name": "stdout",
          "text": [
            "[22 94  0 56 74 42  9 35  9  3]\n"
          ]
        }
      ],
      "source": [
        "vector = np.random.randint(0,100,10)\n",
        "\n",
        "max_value = np.max(vector)\n",
        "\n",
        "vector[vector == max_value] = 0\n",
        "\n",
        "print(vector)"
      ]
    },
    {
      "cell_type": "markdown",
      "id": "9b317a98",
      "metadata": {
        "id": "9b317a98"
      },
      "source": [
        "#### 49. How to print all the values of an array? (★★☆)"
      ]
    },
    {
      "cell_type": "code",
      "execution_count": null,
      "id": "309cdeb9",
      "metadata": {
        "id": "309cdeb9"
      },
      "outputs": [],
      "source": []
    },
    {
      "cell_type": "markdown",
      "id": "b580f9d0",
      "metadata": {
        "id": "b580f9d0"
      },
      "source": [
        "#### 50. How to find the closest value (to a given scalar) in a vector? (★★☆)"
      ]
    },
    {
      "cell_type": "code",
      "execution_count": null,
      "id": "ebfb6714",
      "metadata": {
        "id": "ebfb6714",
        "colab": {
          "base_uri": "https://localhost:8080/"
        },
        "outputId": "3c7e21c7-1158-4502-9cb0-ad42d1cf1071"
      },
      "outputs": [
        {
          "output_type": "stream",
          "name": "stdout",
          "text": [
            "10\n"
          ]
        }
      ],
      "source": [
        "vector = np.array([1, 5, 10,7, 20, 50])\n",
        "scalar = 12\n",
        "\n",
        "differences = np.abs(vector - scalar)\n",
        "\n",
        "index_of_closest = np.argmin(differences)  #index of minimum diff\n",
        "\n",
        "closest_value = vector[index_of_closest]\n",
        "\n",
        "print(closest_value)\n"
      ]
    }
  ],
  "metadata": {
    "kernelspec": {
      "display_name": "Python 3",
      "name": "python3"
    },
    "language_info": {
      "codemirror_mode": {
        "name": "ipython",
        "version": 3
      },
      "file_extension": ".py",
      "mimetype": "text/x-python",
      "name": "python",
      "nbconvert_exporter": "python",
      "pygments_lexer": "ipython3",
      "version": "3.9.7"
    },
    "colab": {
      "provenance": [],
      "gpuType": "T4"
    },
    "accelerator": "GPU"
  },
  "nbformat": 4,
  "nbformat_minor": 5
}