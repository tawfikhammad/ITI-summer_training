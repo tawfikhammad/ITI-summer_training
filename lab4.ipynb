{
 "cells": [
  {
   "cell_type": "markdown",
   "id": "a7c9a6c5",
   "metadata": {},
   "source": [
    "### task1\n",
    "Create a NumPy program to create a 3x3 identity matrix\n"
   ]
  },
  {
   "cell_type": "code",
   "execution_count": 1,
   "id": "188065a3",
   "metadata": {},
   "outputs": [
    {
     "name": "stdout",
     "output_type": "stream",
     "text": [
      "[[1. 0. 0.]\n",
      " [0. 1. 0.]\n",
      " [0. 0. 1.]]\n"
     ]
    }
   ],
   "source": [
    "import numpy as np\n",
    "\n",
    "identity_mtrx = np.identity(3)\n",
    "print(identity_mtrx)"
   ]
  },
  {
   "cell_type": "markdown",
   "id": "80aec852",
   "metadata": {},
   "source": [
    "### task2\n",
    "Create a NumPy program to generate 5 random number between 0 and 1\n",
    "\n"
   ]
  },
  {
   "cell_type": "code",
   "execution_count": 6,
   "id": "2bf0e8ab",
   "metadata": {},
   "outputs": [
    {
     "name": "stdout",
     "output_type": "stream",
     "text": [
      "[0.61254137 0.35510113 0.91744472 0.85308809 0.83142218]\n"
     ]
    }
   ],
   "source": [
    "print(np.random.rand(5))"
   ]
  },
  {
   "cell_type": "markdown",
   "id": "50f2ec4f",
   "metadata": {},
   "source": [
    "### task3\n",
    "Write a NumPy program to append values to the end of an array.\n"
   ]
  },
  {
   "cell_type": "code",
   "execution_count": 20,
   "id": "ebc24402",
   "metadata": {},
   "outputs": [
    {
     "name": "stdout",
     "output_type": "stream",
     "text": [
      "enter numbers separated by spaces: 4\n"
     ]
    },
    {
     "data": {
      "text/plain": [
       "array([3, 5, 8, 4])"
      ]
     },
     "execution_count": 20,
     "metadata": {},
     "output_type": "execute_result"
    }
   ],
   "source": [
    "org_array = np.array([3,5,8])\n",
    "numbers = list(map(int, input('enter numbers separated by spaces: ').split()))\n",
    "np.append(org_array,numbers)"
   ]
  },
  {
   "cell_type": "markdown",
   "id": "2454b4ac",
   "metadata": {},
   "source": [
    "### task4\n",
    "Write a NumPy program to create a 3X4 array and iterate over it using nditer.\n"
   ]
  },
  {
   "cell_type": "code",
   "execution_count": 47,
   "id": "65daae5d",
   "metadata": {},
   "outputs": [
    {
     "name": "stdout",
     "output_type": "stream",
     "text": [
      "enter 12 numbers to create 3x4 array: 1 2 3 4 5 6 7 8 9 10 11 12\n",
      "[[ 1  2  3  4]\n",
      " [ 5  6  7  8]\n",
      " [ 9 10 11 12]]\n",
      "value is 1\n",
      "value is 2\n",
      "value is 3\n",
      "value is 4\n",
      "value is 5\n",
      "value is 6\n",
      "value is 7\n",
      "value is 8\n",
      "value is 9\n",
      "value is 10\n",
      "value is 11\n",
      "value is 12\n"
     ]
    }
   ],
   "source": [
    "array = np.array(list(map(int, input('enter 12 numbers to create 3x4 array: ').split())))\n",
    "array = array.reshape(3, 4)\n",
    "print (array)\n",
    "\n",
    "'''for i in range(array.shape[0]):\n",
    "    for j in range(array.shape[1]):\n",
    "        print(f'value is {array[i,j]} its postion ({i},{j})')'''\n",
    "\n",
    "for i in np.nditer(array):\n",
    "    print(f'value is {i}', end=\"\\n\")"
   ]
  },
  {
   "cell_type": "markdown",
   "id": "eb4b2f9a",
   "metadata": {},
   "source": [
    "### task5\n",
    "Write a NumPy program to create a 1-D array then convert it into 2-D array then print value and position for each value using ndenumerate.\n"
   ]
  },
  {
   "cell_type": "code",
   "execution_count": 45,
   "id": "df7beecd",
   "metadata": {},
   "outputs": [
    {
     "name": "stdout",
     "output_type": "stream",
     "text": [
      "enter numbers separated by spaces: 1 2 3 5 6 7\n",
      "[1 2 3 5 6 7]\n",
      "[[1 2 3]\n",
      " [5 6 7]]\n",
      "value is 1 at position (0,0)\n",
      "value is 2 at position (0,1)\n",
      "value is 3 at position (0,2)\n",
      "value is 5 at position (1,0)\n",
      "value is 6 at position (1,1)\n",
      "value is 7 at position (1,2)\n"
     ]
    }
   ],
   "source": [
    "while True:\n",
    "    array = np.array(list(map(int, input('enter numbers separated by spaces: ').split())))\n",
    "    if len(array) % 2 != 0:\n",
    "        print('the lenth must be divisible by 2. try again.')\n",
    "    else:\n",
    "        reshaped_array = array.reshape(2, len(array) // 2)\n",
    "        break\n",
    "print(array)\n",
    "print(reshaped_array)\n",
    "\n",
    "'''for i in range(reshaped_array.shape[0]):\n",
    "    for j in range(reshaped_array.shape[1]):\n",
    "        print(f'value is {reshaped_array[i,j]} its postion ({i},{j})')'''\n",
    "\n",
    "for postion , i in np.ndenumerate(array2_d):\n",
    "    print(f'value is {i}its postion {postion}')"
   ]
  },
  {
   "cell_type": "code",
   "execution_count": null,
   "id": "003c9073",
   "metadata": {},
   "outputs": [],
   "source": []
  }
 ],
 "metadata": {
  "kernelspec": {
   "display_name": "Python 3 (ipykernel)",
   "language": "python",
   "name": "python3"
  },
  "language_info": {
   "codemirror_mode": {
    "name": "ipython",
    "version": 3
   },
   "file_extension": ".py",
   "mimetype": "text/x-python",
   "name": "python",
   "nbconvert_exporter": "python",
   "pygments_lexer": "ipython3",
   "version": "3.9.13"
  },
  "toc": {
   "base_numbering": 1,
   "nav_menu": {},
   "number_sections": true,
   "sideBar": true,
   "skip_h1_title": false,
   "title_cell": "Table of Contents",
   "title_sidebar": "Contents",
   "toc_cell": false,
   "toc_position": {},
   "toc_section_display": true,
   "toc_window_display": false
  }
 },
 "nbformat": 4,
 "nbformat_minor": 5
}
